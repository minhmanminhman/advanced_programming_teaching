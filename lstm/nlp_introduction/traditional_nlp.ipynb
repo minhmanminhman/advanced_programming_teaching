{
 "cells": [
  {
   "cell_type": "markdown",
   "metadata": {},
   "source": [
    "# NLP Introduction\n",
    "\n",
    "In this tutorial, I introduce some terminologies in Natural Language Processing (NLP) field. First, we will go through some traditional NLP methods before Deep Learning to have a brief view of history of NLP. In the next notebook, we will improve our models by using knowledge in Deep Learning or Sequence Model.\n",
    "\n",
    "This notebook covers following topics:\n",
    "- Corpora, Tokens and Types\n",
    "- TF-IDF\n",
    "- Unigrams, Bigrams, Trigrams, ..., N-grams\n",
    "- Lemmas and Stems\n",
    "- Categorizing Sentences and Documents:\n",
    "    - Categorizing words: part-of-specch (POS) taging\n",
    "    - Categorizing Spans: Chunking and Named Entity Regconition\n",
    "\n",
    "**Remark**: install `spacy` and `nltk` packages for preprocessing text. Documentation for [spaCy](https://spacy.io/) and [nltk](https://www.nltk.org/)\n",
    "    \n",
    "I use an example with **Yelp Review Dataset** using Multi Layer Perceptron, a traditional approach for NLP tasks.\n",
    "\n",
    ">In 2015, Yelp held a contest in which it asked participants to predict the rating of a restaurant given its\n",
    "review. Zhang, Zhao, and Lecun (2015) simplified the dataset by converting the 1­ and 2­star ratings\n",
    "into a “negative” sentiment class and the 3­ and 4­star ratings into a “positive” sentiment class, and\n",
    "split it into 560,000 training samples and 38,000 testing samples. In this example we use the simplified\n",
    "Yelp dataset, with two minor differences. In the remainder of this section, we describe the process by\n",
    "which we minimally clean the data and derive our final dataset. Then, we outline the implementation\n",
    "that utilizes PyTorch’s Dataset class"
   ]
  },
  {
   "cell_type": "markdown",
   "metadata": {
    "hide_input": true
   },
   "source": [
    "# Corpora, Tokens and Types\n",
    "\n",
    "* **Corpora**: a text dataset, which contains raw text (in ASCII or UTF-8), and any meta data associated with the text.\n",
    "* **Meta data**: Auxiliary information associated with the text.\n",
    "* **Tokens**: raw text is a sequence of characters which are grouped into contiguous units called *tokens*. The process of breaking down a text into tokens called **tokenizer**.\n",
    "* **Types** are unique tokens present in a corpus.\n",
    "* Set of all types in a corpus is its **vocabulary**."
   ]
  },
  {
   "cell_type": "code",
   "execution_count": 1,
   "metadata": {
    "ExecuteTime": {
     "end_time": "2020-07-25T02:34:03.226491Z",
     "start_time": "2020-07-25T02:34:00.623763Z"
    }
   },
   "outputs": [
    {
     "name": "stdout",
     "output_type": "stream",
     "text": [
      "['what', \"'s\", 'happened', 'to', 'me', '?', 'he', 'thought', '.', 'it', 'was', \"n't\", 'a', 'dream', '.']\n"
     ]
    }
   ],
   "source": [
    "import spacy\n",
    "\n",
    "tokenizer = spacy.load(\"en_core_web_sm\")\n",
    "# text = \"Mary, I haven't seen her self-esteem!\"\n",
    "text = \"What's happened to me? he thought. It wasn't a dream.\"\n",
    "tokenized = [str(token) for token in tokenizer(text.lower())]\n",
    "print(tokenized)"
   ]
  },
  {
   "cell_type": "code",
   "execution_count": 4,
   "metadata": {
    "ExecuteTime": {
     "end_time": "2020-07-25T02:36:25.074809Z",
     "start_time": "2020-07-25T02:36:25.065807Z"
    }
   },
   "outputs": [
    {
     "name": "stdout",
     "output_type": "stream",
     "text": [
      "['will', 'be', 'interviewed', 'by', '@seanhannity', 'tonight', 'at', '9:00', 'p', '.', 'm', '.', 'on', '@foxnews', '.', 'enjoy', '#ilovenlp', '!', '!', '!']\n"
     ]
    }
   ],
   "source": [
    "from nltk.tokenize import TweetTokenizer\n",
    "\n",
    "tweet = \"Will be interviewed by @seanhannity tonight at 9:00 P.M. on @FoxNews. Enjoy #ILoveNLP!!!\"\n",
    "tweet_tokenizer = TweetTokenizer()\n",
    "print(tweet_tokenizer.tokenize(tweet.lower()))"
   ]
  },
  {
   "cell_type": "markdown",
   "metadata": {},
   "source": [
    "# TF-IDF\n"
   ]
  },
  {
   "cell_type": "code",
   "execution_count": 74,
   "metadata": {
    "ExecuteTime": {
     "end_time": "2020-07-24T19:05:39.613968Z",
     "start_time": "2020-07-24T19:05:39.479963Z"
    }
   },
   "outputs": [
    {
     "data": {
      "text/plain": [
       "<matplotlib.axes._subplots.AxesSubplot at 0x1bcb3732c48>"
      ]
     },
     "execution_count": 74,
     "metadata": {},
     "output_type": "execute_result"
    },
    {
     "data": {
      "image/png": "[encoded data removed]",
      "text/plain": [
       "<Figure size 432x288 with 1 Axes>"
      ]
     },
     "metadata": {
      "needs_background": "light"
     },
     "output_type": "display_data"
    }
   ],
   "source": [
    "from sklearn.feature_extraction.text import CountVectorizer\n",
    "import seaborn as sns\n",
    "import string\n",
    "\n",
    "corpus = [\n",
    "    'My book is a good book.',\n",
    "    'Time flies like an arrow.'\n",
    "]\n",
    "\n",
    "one_hot_vectorizer = CountVectorizer(binary=False)\n",
    "one_hot = one_hot_vectorizer.fit_transform(corpus).toarray()\n",
    "\n",
    "# Plot TF prepresentation\n",
    "vocab = sorted(one_hot_vectorizer.vocabulary_)\n",
    "sns.heatmap(\n",
    "    one_hot, annot=True, cbar=False,\n",
    "    xticklabels=vocab, \n",
    "    yticklabels=['Sentence 2', 'Sentence 1']\n",
    ")"
   ]
  },
  {
   "cell_type": "code",
   "execution_count": 6,
   "metadata": {
    "ExecuteTime": {
     "end_time": "2020-07-25T02:41:35.747086Z",
     "start_time": "2020-07-25T02:41:35.533087Z"
    }
   },
   "outputs": [
    {
     "data": {
      "text/plain": [
       "<matplotlib.axes._subplots.AxesSubplot at 0x232df645308>"
      ]
     },
     "execution_count": 6,
     "metadata": {},
     "output_type": "execute_result"
    },
    {
     "data": {
      "image/png": "[encoded data removed]",
      "text/plain": [
       "<Figure size 432x288 with 1 Axes>"
      ]
     },
     "metadata": {
      "needs_background": "light"
     },
     "output_type": "display_data"
    }
   ],
   "source": [
    "from sklearn.feature_extraction.text import TfidfVectorizer\n",
    "import seaborn as sns\n",
    "import string\n",
    "\n",
    "corpus = [\n",
    "    'Time flies flies like an arrow.',\n",
    "    'Fruit flies like a banana.'\n",
    "]\n",
    "\n",
    "tfidf_vectorizer = TfidfVectorizer()\n",
    "tfidf = tfidf_vectorizer.fit_transform(corpus).toarray()\n",
    "vocab = sorted(tfidf_vectorizer.vocabulary_)\n",
    "\n",
    "# Plot TF prepresentation\n",
    "\n",
    "sns.heatmap(\n",
    "    tfidf, annot=True, cbar=False,\n",
    "    xticklabels=vocab, \n",
    "    yticklabels=['Sentence 2', 'Sentence 1']\n",
    ")"
   ]
  },
  {
   "cell_type": "markdown",
   "metadata": {},
   "source": [
    "# Unigrams, Bigrams, Trigrams, ..., N-grams\n",
    "\n",
    "**N-grams** are fixed-length consecutive token sequences occuring in the text"
   ]
  },
  {
   "cell_type": "code",
   "execution_count": 8,
   "metadata": {
    "ExecuteTime": {
     "end_time": "2020-07-25T02:43:13.105099Z",
     "start_time": "2020-07-25T02:43:13.085100Z"
    }
   },
   "outputs": [
    {
     "name": "stdout",
     "output_type": "stream",
     "text": [
      "Before tri-grams\n",
      "['what', \"'s\", 'happened', 'to', 'me', '?', 'he', 'thought', '.', 'it', 'was', \"n't\", 'a', 'dream', '.']\n",
      "After tri-grams\n",
      "('what', \"'s\", 'happened', 'to')\n",
      "(\"'s\", 'happened', 'to', 'me')\n",
      "('happened', 'to', 'me', '?')\n",
      "('to', 'me', '?', 'he')\n",
      "('me', '?', 'he', 'thought')\n",
      "('?', 'he', 'thought', '.')\n",
      "('he', 'thought', '.', 'it')\n",
      "('thought', '.', 'it', 'was')\n",
      "('.', 'it', 'was', \"n't\")\n",
      "('it', 'was', \"n't\", 'a')\n",
      "('was', \"n't\", 'a', 'dream')\n",
      "(\"n't\", 'a', 'dream', '.')\n"
     ]
    }
   ],
   "source": [
    "from nltk import ngrams\n",
    "\n",
    "trigrams = ngrams(tokenized, 4)\n",
    "print('Before tri-grams')\n",
    "print(tokenized)\n",
    "print('After tri-grams')\n",
    "for grams in trigrams:\n",
    "    print(grams)"
   ]
  },
  {
   "cell_type": "markdown",
   "metadata": {},
   "source": [
    "**Lemmas** are root form of words. For example, word *fly* can be inflected into many words: *flow, flew, flies, flown, flowing*. *Fly* is the lemma for all these different words."
   ]
  },
  {
   "cell_type": "code",
   "execution_count": 9,
   "metadata": {
    "ExecuteTime": {
     "end_time": "2020-07-25T02:44:37.234241Z",
     "start_time": "2020-07-25T02:44:37.202956Z"
    }
   },
   "outputs": [
    {
     "name": "stdout",
     "output_type": "stream",
     "text": [
      "he -> -PRON-\n",
      "have -> have\n",
      "n't -> not\n",
      "been -> be\n",
      "playing -> play\n",
      "tennis -> tennis\n"
     ]
    }
   ],
   "source": [
    "doc = tokenizer(\"he haven't been playing tennis\")\n",
    "for token in doc:\n",
    "    print(f\"{token} -> {token.lemma_}\")"
   ]
  },
  {
   "cell_type": "markdown",
   "metadata": {},
   "source": [
    "# Categorizing sentences and documents"
   ]
  },
  {
   "cell_type": "markdown",
   "metadata": {},
   "source": [
    "**Part-of-speech (POS)** tagging"
   ]
  },
  {
   "cell_type": "code",
   "execution_count": 27,
   "metadata": {
    "ExecuteTime": {
     "end_time": "2020-07-24T16:26:15.496946Z",
     "start_time": "2020-07-24T16:26:15.468921Z"
    }
   },
   "outputs": [
    {
     "name": "stdout",
     "output_type": "stream",
     "text": [
      "The - DET\n",
      "clear - ADJ\n",
      "blue - ADJ\n",
      "sky - NOUN\n",
      "is - AUX\n",
      "collapsing - VERB\n",
      ". - PUNCT\n"
     ]
    }
   ],
   "source": [
    "doc = tokenizer(\"The clear blue sky is collapsing.\")\n",
    "for token in doc:\n",
    "    print(f\"{token} - {token.pos_}\")"
   ]
  },
  {
   "cell_type": "markdown",
   "metadata": {},
   "source": [
    "**Noun phrash (NP) chunkings**"
   ]
  },
  {
   "cell_type": "code",
   "execution_count": 14,
   "metadata": {
    "ExecuteTime": {
     "end_time": "2020-07-25T02:47:45.820518Z",
     "start_time": "2020-07-25T02:47:45.786523Z"
    }
   },
   "outputs": [
    {
     "name": "stdout",
     "output_type": "stream",
     "text": [
      "The police - NP\n",
      "the criminal - NP\n"
     ]
    }
   ],
   "source": [
    "doc = tokenizer(\"The police caught the criminal quickly\")\n",
    "for chunk in doc.noun_chunks:\n",
    "    print(f\"{chunk} - {chunk.label_}\")"
   ]
  }
 ],
 "metadata": {
  "hide_input": false,
  "kernelspec": {
   "display_name": "man_env",
   "language": "python",
   "name": "man_env"
  },
  "language_info": {
   "codemirror_mode": {
    "name": "ipython",
    "version": 3
   },
   "file_extension": ".py",
   "mimetype": "text/x-python",
   "name": "python",
   "nbconvert_exporter": "python",
   "pygments_lexer": "ipython3",
   "version": "3.7.7"
  },
  "latex_envs": {
   "LaTeX_envs_menu_present": true,
   "autoclose": false,
   "autocomplete": true,
   "bibliofile": "biblio.bib",
   "cite_by": "apalike",
   "current_citInitial": 1,
   "eqLabelWithNumbers": true,
   "eqNumInitial": 1,
   "hotkeys": {
    "equation": "Ctrl-E",
    "itemize": "Ctrl-I"
   },
   "labels_anchors": false,
   "latex_user_defs": false,
   "report_style_numbering": false,
   "user_envs_cfg": false
  },
  "toc": {
   "base_numbering": 1,
   "nav_menu": {},
   "number_sections": true,
   "sideBar": true,
   "skip_h1_title": false,
   "title_cell": "Table of Contents",
   "title_sidebar": "Contents",
   "toc_cell": false,
   "toc_position": {},
   "toc_section_display": true,
   "toc_window_display": false
  },
  "varInspector": {
   "cols": {
    "lenName": 16,
    "lenType": 16,
    "lenVar": 40
   },
   "kernels_config": {
    "python": {
     "delete_cmd_postfix": "",
     "delete_cmd_prefix": "del ",
     "library": "var_list.py",
     "varRefreshCmd": "print(var_dic_list())"
    },
    "r": {
     "delete_cmd_postfix": ") ",
     "delete_cmd_prefix": "rm(",
     "library": "var_list.r",
     "varRefreshCmd": "cat(var_dic_list()) "
    }
   },
   "types_to_exclude": [
    "module",
    "function",
    "builtin_function_or_method",
    "instance",
    "_Feature"
   ],
   "window_display": false
  }
 },
 "nbformat": 4,
 "nbformat_minor": 4
}
