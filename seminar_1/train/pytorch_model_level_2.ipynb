{
 "cells": [
  {
   "cell_type": "markdown",
   "metadata": {},
   "source": [
    "# README\n",
    "\n",
    "These files do following steps:\n",
    "\n",
    "* 1. We need to create a object `RegressionColumnarDataset`: in example **Traing a classifier** on PyTorch home page tutorial, we download data using PyTorch functions and then load the data into dataloader directly. The downloaded data have already been wrapped in a class called `torch.utils.data.Dataset`. Here, we use a dataset from Kaggle so we need to create a class to wrap that dataset.\n",
    "\n",
    "* 2. After creating `RegressionColumnarDataset`, use function `setup_dataloader` to put our dataset into data loader.\n",
    "\n",
    "* 3. In this level, we write our Network in a more flexible way, which means it can build more complex network structure. `training_loop_2` can save the best model found in training process and save running loss."
   ]
  },
  {
   "cell_type": "code",
   "execution_count": 3,
   "metadata": {
    "ExecuteTime": {
     "end_time": "2020-06-13T07:27:39.797108Z",
     "start_time": "2020-06-13T07:27:38.372062Z"
    }
   },
   "outputs": [],
   "source": [
    "import os\n",
    "os.chdir('../../seminar_1')\n",
    "import pandas as pd\n",
    "from utils.helper_functions import save_pickle, load_pickle\n",
    "import warnings\n",
    "warnings.filterwarnings('ignore')\n",
    "from sklearn.metrics import mean_squared_error\n",
    "import time\n",
    "import copy\n",
    "import torch.utils.data as Data\n",
    "import torch\n",
    "import torch.nn as nn\n",
    "import torch.nn.functional as F\n",
    "\n",
    "class RegressionColumnarDataset(Data.Dataset):\n",
    "    \"\"\"\n",
    "    Object Dataset in PyTorch to store dataset before loading into DataLoader\n",
    "    \"\"\"\n",
    "    def __init__(self, df_transformed, target):\n",
    "        self.data = df_transformed.copy().values.astype(np.float32)\n",
    "        # Select target\n",
    "        self.target = target.values.astype(np.float32)\n",
    "        self.n_feature = self.data.shape[1]\n",
    "\n",
    "    def __len__(self):\n",
    "        return len(self.target)\n",
    "\n",
    "    def __getitem__(self, idx):\n",
    "        return [self.data[idx], self.target[idx]]\n",
    "\n",
    "def setup_dataloader(df, mapper, batch_size=256, shuffle=True, num_workers=0):\n",
    "    \"\"\"\n",
    "    Convert preprocessed DataFrame (with target column 'price') into DataLoader\n",
    "    \"\"\"\n",
    "    df_transformed = mapper.transform(df)\n",
    "    target = df['price'].copy() / 1e6\n",
    "    df_dataset = RegressionColumnarDataset(df_transformed, target)\n",
    "    dataloader = Data.DataLoader(df_dataset, batch_size=batch_size, shuffle=shuffle, num_workers=0)\n",
    "    return dataloader\n",
    "\n",
    "def to_numpy(tensor):\n",
    "    \"\"\"\n",
    "    Convert a Pytorch tensor to numpy\n",
    "    \"\"\"\n",
    "    return tensor.cpu().data.numpy()"
   ]
  },
  {
   "cell_type": "markdown",
   "metadata": {},
   "source": [
    "# Prepare data"
   ]
  },
  {
   "cell_type": "code",
   "execution_count": 4,
   "metadata": {
    "ExecuteTime": {
     "end_time": "2020-06-13T07:27:40.136426Z",
     "start_time": "2020-06-13T07:27:39.803021Z"
    }
   },
   "outputs": [],
   "source": [
    "train = pd.read_csv('data/train.csv')\n",
    "test = pd.read_csv('data/test.csv')\n",
    "mapper = load_pickle('model/mapper.pkl')\n",
    "\n",
    "traindl = setup_dataloader(train, mapper)\n",
    "testdl = setup_dataloader(test, mapper)"
   ]
  },
  {
   "cell_type": "markdown",
   "metadata": {},
   "source": [
    "# Neural Network Level 2"
   ]
  },
  {
   "cell_type": "code",
   "execution_count": 5,
   "metadata": {
    "ExecuteTime": {
     "end_time": "2020-06-13T07:27:40.150135Z",
     "start_time": "2020-06-13T07:27:40.139163Z"
    },
    "code_folding": [
     10,
     17
    ]
   },
   "outputs": [],
   "source": [
    "# Weight initial\n",
    "def customize_weight_init(x):\n",
    "    \"\"\"\n",
    "    Use Xavier method to initialize weight\n",
    "    \"\"\"\n",
    "    classname = x.__class__.__name__\n",
    "    if classname.find('Linear') != -1:\n",
    "        nn.init.xavier_normal_(x.weight)\n",
    "        nn.init.constant_(x.bias, 0)\n",
    "        \n",
    "    if classname.find('BatchNorm') != -1:\n",
    "        nn.init.constant_(x.weight, 1)\n",
    "        nn.init.constant_(x.bias, 0)\n",
    "\n",
    "        \n",
    "# Define model\n",
    "class NNet_model_2(nn.Module):\n",
    "    def __init__(self, input_dim, layer1, layer2, n_output=1):\n",
    "        '''\n",
    "        A class that defines the neural network structure\n",
    "        \n",
    "        Params:\n",
    "        input_dim: number of features from the dataset\n",
    "        layer1 : num of neurons in layer 1\n",
    "        layer2: num of neurons in layer 2\n",
    "        \n",
    "        output: \n",
    "        an object that holds the model structure (can be called as a function)\n",
    "        '''\n",
    "        super().__init__()\n",
    "        self.input_dim = input_dim\n",
    "        self.ln1 = nn.Linear(self.input_dim, layer1)\n",
    "        self.ln2 = nn.Linear(layer1, layer2)\n",
    "        self.ln3 = nn.Linear(layer2, n_output)\n",
    "        self.bn1 = nn.BatchNorm1d(layer1)\n",
    "        self.bn2 = nn.BatchNorm1d(layer2)\n",
    "        self.dropout = nn.Dropout(0.3)\n",
    "        \n",
    "    def forward(self, x):\n",
    "        # Feed-foward to Layer 1\n",
    "        x = self.dropout(self.bn1(F.relu(self.ln1(x))))\n",
    "        # Feed forward to Layer 2\n",
    "        x = self.dropout(self.bn2(F.relu(self.ln2(x))))\n",
    "        # Output\n",
    "        x = self.ln3(x)\n",
    "        return x"
   ]
  },
  {
   "cell_type": "code",
   "execution_count": 6,
   "metadata": {
    "ExecuteTime": {
     "end_time": "2020-06-13T07:27:40.196010Z",
     "start_time": "2020-06-13T07:27:40.152128Z"
    }
   },
   "outputs": [],
   "source": [
    "model = NNet_model_2(traindl.dataset.n_feature, 128, 32)\n",
    "model.apply(customize_weight_init)\n",
    "optimizer = torch.optim.Adam(model.parameters(), lr = 0.01, weight_decay= 0.1)\n",
    "loss_function = nn.MSELoss(reduce='mean')"
   ]
  },
  {
   "cell_type": "code",
   "execution_count": 7,
   "metadata": {
    "ExecuteTime": {
     "end_time": "2020-06-13T07:27:40.228922Z",
     "start_time": "2020-06-13T07:27:40.198006Z"
    }
   },
   "outputs": [],
   "source": [
    "def train_loop_2(traindl, testdl, model, optimizer, loss_function, \n",
    "                seed=0, epoches=5, save_folder='model', verbose=True):\n",
    "\n",
    "    device = torch.device(\"cuda\") if torch.cuda.is_available() else torch.device(\"cpu\")\n",
    "    if verbose: print('Training on: ', device)\n",
    "    torch.manual_seed(seed)\n",
    "    \n",
    "    # Some setup\n",
    "    start_time = time.time()\n",
    "    df = pd.DataFrame(columns = ['train', 'test'])\n",
    "    \n",
    "    for epoch in range(epoches): \n",
    "        # Tracking loss\n",
    "        train_loss = np.array([])\n",
    "        test_loss = np.array([])\n",
    "        \n",
    "        # Train\n",
    "        model.train()\n",
    "        for x, y in iter(traindl):\n",
    "            x, y = x.to(device), y.to(device)\n",
    "            \n",
    "            optimizer.zero_grad()\n",
    "            yhat = model(x).to(device)\n",
    "            loss = loss_function(yhat, y)\n",
    "            loss.backward()\n",
    "            optimizer.step()\n",
    "            \n",
    "            # Track train loss\n",
    "            train_loss  = np.concatenate((train_loss, loss.item()), axis=None)\n",
    "        \n",
    "        # Evaluate\n",
    "        model.eval()\n",
    "        for x, y in iter(testdl):\n",
    "            x, y = x.to(device), y.to(device)\n",
    "            \n",
    "            yhat = model(x).to(device)\n",
    "            loss = loss_function(yhat, y)\n",
    "            \n",
    "            # Track test loss\n",
    "            test_loss  = np.concatenate((test_loss, loss.item()), axis=None)\n",
    "\n",
    "        if verbose:\n",
    "            cur_lr = optimizer.param_groups[0]['lr']\n",
    "            print(f'Epoch {epoch+1}: train_loss: {train_loss.mean():.4f} test_loss: {test_loss.mean():.4f}')\n",
    "            \n",
    "        # After each epoch, append train and test loss mean\n",
    "        df = df.append({\n",
    "            'train' : train_loss.mean(),\n",
    "            'test' : test_loss.mean()\n",
    "        }, ignore_index=True)\n",
    "        \n",
    "        # Save best model\n",
    "        errors = df['test'].values\n",
    "        if errors[-1] == min(errors):\n",
    "            best_model = copy.deepcopy(model)\n",
    "            best_epoch = epoch\n",
    "            best_optimizer = copy.deepcopy(optimizer)\n",
    "            checkpoint = {\n",
    "                'model': model,\n",
    "                'epoch': epoch + 1,\n",
    "                'state_dict': best_model.state_dict(),\n",
    "                'optimizer': best_optimizer.state_dict(),\n",
    "                'test_loss': test_loss.mean(),\n",
    "                'train_loss': train_loss.mean()\n",
    "            }\n",
    "            path_checkpoint = save_folder + '/nnet_2.pth'\n",
    "            torch.save(checkpoint, path_checkpoint)\n",
    "\n",
    "    if verbose:\n",
    "        print(f\"Finished training in {time.time() - start_time:.4f} seconds\")\n",
    "        print(f'Model save to {path_checkpoint}')\n",
    "        print('Save dataframe tracking loss at data/track_loss.csv')\n",
    "        df.to_csv('data/track_loss.csv', index=False)"
   ]
  },
  {
   "cell_type": "code",
   "execution_count": 8,
   "metadata": {
    "ExecuteTime": {
     "end_time": "2020-06-13T07:27:54.697246Z",
     "start_time": "2020-06-13T07:27:40.230918Z"
    }
   },
   "outputs": [
    {
     "name": "stdout",
     "output_type": "stream",
     "text": [
      "Training on:  cpu\n",
      "Epoch 1: train_loss: 0.4866 test_loss: 0.1406\n",
      "Epoch 2: train_loss: 0.1506 test_loss: 0.1365\n",
      "Epoch 3: train_loss: 0.1363 test_loss: 0.1380\n",
      "Epoch 4: train_loss: 0.1364 test_loss: 0.1359\n",
      "Epoch 5: train_loss: 0.1337 test_loss: 0.1363\n",
      "Epoch 6: train_loss: 0.1391 test_loss: 0.1450\n",
      "Epoch 7: train_loss: 0.1343 test_loss: 0.1356\n",
      "Epoch 8: train_loss: 0.1375 test_loss: 0.1361\n",
      "Epoch 9: train_loss: 0.1345 test_loss: 0.1363\n",
      "Epoch 10: train_loss: 0.1348 test_loss: 0.1360\n",
      "Epoch 11: train_loss: 0.1350 test_loss: 0.1405\n",
      "Epoch 12: train_loss: 0.1341 test_loss: 0.1397\n",
      "Epoch 13: train_loss: 0.1345 test_loss: 0.1379\n",
      "Epoch 14: train_loss: 0.1339 test_loss: 0.1372\n",
      "Epoch 15: train_loss: 0.1335 test_loss: 0.1409\n",
      "Finished training in 14.4434 seconds\n",
      "Model save to model/nnet_1.pth\n",
      "Save dataframe tracking loss at data/track_loss.csv\n"
     ]
    }
   ],
   "source": [
    "train_loop_2(traindl, testdl, model, optimizer, loss_function, epoches=15)"
   ]
  },
  {
   "cell_type": "code",
   "execution_count": 9,
   "metadata": {
    "ExecuteTime": {
     "end_time": "2020-06-13T07:27:55.019424Z",
     "start_time": "2020-06-13T07:27:54.699240Z"
    }
   },
   "outputs": [
    {
     "data": {
      "text/plain": [
       "<matplotlib.axes._subplots.AxesSubplot at 0x17082f05d88>"
      ]
     },
     "execution_count": 9,
     "metadata": {},
     "output_type": "execute_result"
    },
    {
     "data": {
      "image/png": "[encoded data removed]",
      "text/plain": [
       "<Figure size 432x288 with 1 Axes>"
      ]
     },
     "metadata": {
      "needs_background": "light"
     },
     "output_type": "display_data"
    }
   ],
   "source": [
    "track_loss = pd.read_csv('data/track_loss.csv')\n",
    "track_loss.plot()"
   ]
  },
  {
   "cell_type": "code",
   "execution_count": null,
   "metadata": {},
   "outputs": [],
   "source": []
  }
 ],
 "metadata": {
  "kernelspec": {
   "display_name": "man_env",
   "language": "python",
   "name": "man_env"
  },
  "language_info": {
   "codemirror_mode": {
    "name": "ipython",
    "version": 3
   },
   "file_extension": ".py",
   "mimetype": "text/x-python",
   "name": "python",
   "nbconvert_exporter": "python",
   "pygments_lexer": "ipython3",
   "version": "3.7.6"
  },
  "latex_envs": {
   "LaTeX_envs_menu_present": true,
   "autoclose": false,
   "autocomplete": true,
   "bibliofile": "biblio.bib",
   "cite_by": "apalike",
   "current_citInitial": 1,
   "eqLabelWithNumbers": true,
   "eqNumInitial": 1,
   "hotkeys": {
    "equation": "Ctrl-E",
    "itemize": "Ctrl-I"
   },
   "labels_anchors": false,
   "latex_user_defs": false,
   "report_style_numbering": false,
   "user_envs_cfg": false
  },
  "toc": {
   "base_numbering": 1,
   "nav_menu": {},
   "number_sections": true,
   "sideBar": true,
   "skip_h1_title": false,
   "title_cell": "Table of Contents",
   "title_sidebar": "Contents",
   "toc_cell": false,
   "toc_position": {},
   "toc_section_display": true,
   "toc_window_display": false
  },
  "varInspector": {
   "cols": {
    "lenName": 16,
    "lenType": 16,
    "lenVar": 40
   },
   "kernels_config": {
    "python": {
     "delete_cmd_postfix": "",
     "delete_cmd_prefix": "del ",
     "library": "var_list.py",
     "varRefreshCmd": "print(var_dic_list())"
    },
    "r": {
     "delete_cmd_postfix": ") ",
     "delete_cmd_prefix": "rm(",
     "library": "var_list.r",
     "varRefreshCmd": "cat(var_dic_list()) "
    }
   },
   "types_to_exclude": [
    "module",
    "function",
    "builtin_function_or_method",
    "instance",
    "_Feature"
   ],
   "window_display": false
  }
 },
 "nbformat": 4,
 "nbformat_minor": 4
}