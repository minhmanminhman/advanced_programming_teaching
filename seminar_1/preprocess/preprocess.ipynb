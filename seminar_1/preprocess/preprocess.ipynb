{
 "cells": [
  {
   "cell_type": "markdown",
   "metadata": {},
   "source": [
    "# README\n",
    "\n",
    "We perform train test split, some simple preprocess steps, create mapper.\n",
    "\n",
    "The preprocessed train and test set are saved to folder `data`.\n",
    "\n",
    "The mapper is saved to folder `model`."
   ]
  },
  {
   "cell_type": "code",
   "execution_count": null,
   "metadata": {
    "ExecuteTime": {
     "end_time": "2020-06-13T07:07:11.356472Z",
     "start_time": "2020-06-13T07:07:10.499545Z"
    }
   },
   "outputs": [],
   "source": [
    "import os\n",
    "os.chdir('../../seminar_1')\n",
    "import pandas as pd\n",
    "from utils.helper_functions import missing_values_table, process_datetime, save_pickle\n",
    "import warnings\n",
    "warnings.filterwarnings('ignore')\n",
    "\n",
    "data = pd.read_csv('data/kc_house_data.csv')"
   ]
  },
  {
   "cell_type": "markdown",
   "metadata": {},
   "source": [
    "# Train test split"
   ]
  },
  {
   "cell_type": "code",
   "execution_count": null,
   "metadata": {
    "ExecuteTime": {
     "end_time": "2020-06-13T07:07:11.806025Z",
     "start_time": "2020-06-13T07:07:11.358038Z"
    }
   },
   "outputs": [],
   "source": [
    "from sklearn.model_selection import train_test_split\n",
    "\n",
    "train, test = train_test_split(data, test_size=0.3, random_state=0)"
   ]
  },
  {
   "cell_type": "markdown",
   "metadata": {},
   "source": [
    "# Very basic preprocessing steps"
   ]
  },
  {
   "cell_type": "code",
   "execution_count": null,
   "metadata": {
    "ExecuteTime": {
     "end_time": "2020-06-13T07:07:11.843985Z",
     "start_time": "2020-06-13T07:07:11.808765Z"
    }
   },
   "outputs": [],
   "source": [
    "missing_values_table(train)"
   ]
  },
  {
   "cell_type": "code",
   "execution_count": null,
   "metadata": {
    "ExecuteTime": {
     "end_time": "2020-06-13T07:07:11.851935Z",
     "start_time": "2020-06-13T07:07:11.845951Z"
    }
   },
   "outputs": [],
   "source": [
    "def preprocess_df(df):\n",
    "    # Convert to datetime df type\n",
    "    df['date'] = pd.to_datetime(df['date'])\n",
    "\n",
    "    # Preprocess to feature engineering some datetime features\n",
    "    df = process_datetime(df, 'date')\n",
    "    return df"
   ]
  },
  {
   "cell_type": "code",
   "execution_count": null,
   "metadata": {
    "ExecuteTime": {
     "end_time": "2020-06-13T07:07:11.952971Z",
     "start_time": "2020-06-13T07:07:11.853929Z"
    },
    "scrolled": true
   },
   "outputs": [],
   "source": [
    "train_preprocessed = preprocess_df(train)\n",
    "test_preprocessed = preprocess_df(test)"
   ]
  },
  {
   "cell_type": "markdown",
   "metadata": {
    "ExecuteTime": {
     "end_time": "2020-06-12T01:36:00.421417Z",
     "start_time": "2020-06-12T01:36:00.391499Z"
    }
   },
   "source": [
    "# Mapper"
   ]
  },
  {
   "cell_type": "code",
   "execution_count": null,
   "metadata": {
    "ExecuteTime": {
     "end_time": "2020-06-13T07:08:14.772347Z",
     "start_time": "2020-06-13T07:08:14.722455Z"
    }
   },
   "outputs": [],
   "source": [
    "from sklearn_pandas import DataFrameMapper\n",
    "from sklearn.preprocessing import OneHotEncoder, StandardScaler\n",
    "\n",
    "mapper=DataFrameMapper([\n",
    "    # Numerical Features\n",
    "    (['bedrooms'], StandardScaler()),\n",
    "    (['bathrooms'], StandardScaler()),\n",
    "    (['sqft_living'], StandardScaler()),\n",
    "    (['sqft_lot'], StandardScaler()),\n",
    "    (['grade'], StandardScaler()),\n",
    "    (['sqft_above'], StandardScaler()),\n",
    "    (['sqft_basement'], StandardScaler()),\n",
    "    (['yr_built'], StandardScaler()),\n",
    "    (['yr_renovated'], StandardScaler()),\n",
    "    (['lat'], StandardScaler()),\n",
    "    (['long'], StandardScaler()),\n",
    "    (['sqft_living15'], StandardScaler()),\n",
    "    (['sqft_lot15'], StandardScaler()),\n",
    "    (['sqft_living15'], StandardScaler()),\n",
    "    (['sqft_living15'], StandardScaler()),\n",
    "    (['sqft_living15'], StandardScaler()),\n",
    "    (['sqft_living15'], StandardScaler()),\n",
    "    \n",
    "    # Categorical Features\n",
    "    (['waterfront'], OneHotEncoder(handle_unknown='ignore')),\n",
    "    (['view'], OneHotEncoder(handle_unknown='ignore')),\n",
    "    (['condition'], OneHotEncoder(handle_unknown='ignore')),\n",
    "    (['date_month'], OneHotEncoder(handle_unknown='ignore')),\n",
    "    (['date_dow'], OneHotEncoder(handle_unknown='ignore')),\n",
    "    (['date_quarter'], OneHotEncoder(handle_unknown='ignore')),\n",
    "    (['date_isweeknd'], OneHotEncoder(handle_unknown='ignore')),\n",
    "    (['date_month_interval'], OneHotEncoder(handle_unknown='ignore')),\n",
    "], df_out=True)\n",
    "\n",
    "# Fit mapper\n",
    "mapper = mapper.fit(train_preprocessed)"
   ]
  },
  {
   "cell_type": "code",
   "execution_count": null,
   "metadata": {
    "ExecuteTime": {
     "end_time": "2020-06-13T07:08:16.290036Z",
     "start_time": "2020-06-13T07:08:15.677382Z"
    }
   },
   "outputs": [],
   "source": [
    "# Save everything\n",
    "save_pickle('model/mapper.pkl', mapper)\n",
    "train_preprocessed.to_csv('data/train.csv', index=False)\n",
    "test_preprocessed.to_csv('data/test.csv', index=False)"
   ]
  },
  {
   "cell_type": "code",
   "execution_count": null,
   "metadata": {},
   "outputs": [],
   "source": []
  }
 ],
 "metadata": {
  "kernelspec": {
   "display_name": "man_env",
   "language": "python",
   "name": "man_env"
  },
  "language_info": {
   "codemirror_mode": {
    "name": "ipython",
    "version": 3
   },
   "file_extension": ".py",
   "mimetype": "text/x-python",
   "name": "python",
   "nbconvert_exporter": "python",
   "pygments_lexer": "ipython3",
   "version": "3.7.6"
  },
  "latex_envs": {
   "LaTeX_envs_menu_present": true,
   "autoclose": false,
   "autocomplete": true,
   "bibliofile": "biblio.bib",
   "cite_by": "apalike",
   "current_citInitial": 1,
   "eqLabelWithNumbers": true,
   "eqNumInitial": 1,
   "hotkeys": {
    "equation": "Ctrl-E",
    "itemize": "Ctrl-I"
   },
   "labels_anchors": false,
   "latex_user_defs": false,
   "report_style_numbering": false,
   "user_envs_cfg": false
  },
  "toc": {
   "base_numbering": 1,
   "nav_menu": {},
   "number_sections": true,
   "sideBar": true,
   "skip_h1_title": false,
   "title_cell": "Table of Contents",
   "title_sidebar": "Contents",
   "toc_cell": false,
   "toc_position": {},
   "toc_section_display": true,
   "toc_window_display": false
  },
  "varInspector": {
   "cols": {
    "lenName": 16,
    "lenType": 16,
    "lenVar": 40
   },
   "kernels_config": {
    "python": {
     "delete_cmd_postfix": "",
     "delete_cmd_prefix": "del ",
     "library": "var_list.py",
     "varRefreshCmd": "print(var_dic_list())"
    },
    "r": {
     "delete_cmd_postfix": ") ",
     "delete_cmd_prefix": "rm(",
     "library": "var_list.r",
     "varRefreshCmd": "cat(var_dic_list()) "
    }
   },
   "types_to_exclude": [
    "module",
    "function",
    "builtin_function_or_method",
    "instance",
    "_Feature"
   ],
   "window_display": false
  }
 },
 "nbformat": 4,
 "nbformat_minor": 4
}
